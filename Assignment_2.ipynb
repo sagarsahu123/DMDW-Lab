{
  "nbformat": 4,
  "nbformat_minor": 0,
  "metadata": {
    "colab": {
      "name": "Assignment  2.ipynb",
      "provenance": [],
      "authorship_tag": "ABX9TyN/WogUTosffRiI62XAS2Dj",
      "include_colab_link": true
    },
    "kernelspec": {
      "name": "python3",
      "display_name": "Python 3"
    }
  },
  "cells": [
    {
      "cell_type": "markdown",
      "metadata": {
        "id": "view-in-github",
        "colab_type": "text"
      },
      "source": [
        "<a href=\"https://colab.research.google.com/github/sagarsahu123/DMDW-Lab/blob/main/Assignment_2.ipynb\" target=\"_parent\"><img src=\"https://colab.research.google.com/assets/colab-badge.svg\" alt=\"Open In Colab\"/></a>"
      ]
    },
    {
      "cell_type": "code",
      "metadata": {
        "colab": {
          "base_uri": "https://localhost:8080/",
          "height": 166
        },
        "id": "YdHbQDSmGIx1",
        "outputId": "de80bfa6-74f0-4d60-c5b3-6161bdef0e10"
      },
      "source": [
        "import pandas as pd\n",
        "list=['mango','orange','apple','guava']\n",
        "df=pd.DataFrame(list)\n",
        "df"
      ],
      "execution_count": 1,
      "outputs": [
        {
          "output_type": "execute_result",
          "data": {
            "text/html": [
              "<div>\n",
              "<style scoped>\n",
              "    .dataframe tbody tr th:only-of-type {\n",
              "        vertical-align: middle;\n",
              "    }\n",
              "\n",
              "    .dataframe tbody tr th {\n",
              "        vertical-align: top;\n",
              "    }\n",
              "\n",
              "    .dataframe thead th {\n",
              "        text-align: right;\n",
              "    }\n",
              "</style>\n",
              "<table border=\"1\" class=\"dataframe\">\n",
              "  <thead>\n",
              "    <tr style=\"text-align: right;\">\n",
              "      <th></th>\n",
              "      <th>0</th>\n",
              "    </tr>\n",
              "  </thead>\n",
              "  <tbody>\n",
              "    <tr>\n",
              "      <th>0</th>\n",
              "      <td>mango</td>\n",
              "    </tr>\n",
              "    <tr>\n",
              "      <th>1</th>\n",
              "      <td>orange</td>\n",
              "    </tr>\n",
              "    <tr>\n",
              "      <th>2</th>\n",
              "      <td>apple</td>\n",
              "    </tr>\n",
              "    <tr>\n",
              "      <th>3</th>\n",
              "      <td>guava</td>\n",
              "    </tr>\n",
              "  </tbody>\n",
              "</table>\n",
              "</div>"
            ],
            "text/plain": [
              "        0\n",
              "0   mango\n",
              "1  orange\n",
              "2   apple\n",
              "3   guava"
            ]
          },
          "metadata": {
            "tags": []
          },
          "execution_count": 1
        }
      ]
    },
    {
      "cell_type": "code",
      "metadata": {
        "colab": {
          "base_uri": "https://localhost:8080/",
          "height": 166
        },
        "id": "WaX8ZCNMGL36",
        "outputId": "57683a80-f7af-489b-aada-e196c2cb386f"
      },
      "source": [
        "data={'Name':['soumya','shahid','nitish','kalpana'], 'Age':[20,19,18,20]}\n",
        "df=pd.DataFrame(data)\n",
        "df"
      ],
      "execution_count": 2,
      "outputs": [
        {
          "output_type": "execute_result",
          "data": {
            "text/html": [
              "<div>\n",
              "<style scoped>\n",
              "    .dataframe tbody tr th:only-of-type {\n",
              "        vertical-align: middle;\n",
              "    }\n",
              "\n",
              "    .dataframe tbody tr th {\n",
              "        vertical-align: top;\n",
              "    }\n",
              "\n",
              "    .dataframe thead th {\n",
              "        text-align: right;\n",
              "    }\n",
              "</style>\n",
              "<table border=\"1\" class=\"dataframe\">\n",
              "  <thead>\n",
              "    <tr style=\"text-align: right;\">\n",
              "      <th></th>\n",
              "      <th>Name</th>\n",
              "      <th>Age</th>\n",
              "    </tr>\n",
              "  </thead>\n",
              "  <tbody>\n",
              "    <tr>\n",
              "      <th>0</th>\n",
              "      <td>soumya</td>\n",
              "      <td>20</td>\n",
              "    </tr>\n",
              "    <tr>\n",
              "      <th>1</th>\n",
              "      <td>shahid</td>\n",
              "      <td>19</td>\n",
              "    </tr>\n",
              "    <tr>\n",
              "      <th>2</th>\n",
              "      <td>nitish</td>\n",
              "      <td>18</td>\n",
              "    </tr>\n",
              "    <tr>\n",
              "      <th>3</th>\n",
              "      <td>kalpana</td>\n",
              "      <td>20</td>\n",
              "    </tr>\n",
              "  </tbody>\n",
              "</table>\n",
              "</div>"
            ],
            "text/plain": [
              "      Name  Age\n",
              "0   soumya   20\n",
              "1   shahid   19\n",
              "2   nitish   18\n",
              "3  kalpana   20"
            ]
          },
          "metadata": {
            "tags": []
          },
          "execution_count": 2
        }
      ]
    },
    {
      "cell_type": "code",
      "metadata": {
        "colab": {
          "base_uri": "https://localhost:8080/",
          "height": 166
        },
        "id": "pXBjJ0h-GTqu",
        "outputId": "015d3ae9-c82a-4d36-fffe-648c5351e3dc"
      },
      "source": [
        "data1={'Name':['soumya','shahid','nitish','kalpana'\n",
        "], 'Age':[20,19,18,20], 'Address':['hariwon','kalaiya','biratnagar','malangwa'], 'Qualification':['B.Tech','B.Tech','B.Tech','B.Tech']}\n",
        "df=pd.DataFrame(data1)\n",
        "df"
      ],
      "execution_count": 3,
      "outputs": [
        {
          "output_type": "execute_result",
          "data": {
            "text/html": [
              "<div>\n",
              "<style scoped>\n",
              "    .dataframe tbody tr th:only-of-type {\n",
              "        vertical-align: middle;\n",
              "    }\n",
              "\n",
              "    .dataframe tbody tr th {\n",
              "        vertical-align: top;\n",
              "    }\n",
              "\n",
              "    .dataframe thead th {\n",
              "        text-align: right;\n",
              "    }\n",
              "</style>\n",
              "<table border=\"1\" class=\"dataframe\">\n",
              "  <thead>\n",
              "    <tr style=\"text-align: right;\">\n",
              "      <th></th>\n",
              "      <th>Name</th>\n",
              "      <th>Age</th>\n",
              "      <th>Address</th>\n",
              "      <th>Qualification</th>\n",
              "    </tr>\n",
              "  </thead>\n",
              "  <tbody>\n",
              "    <tr>\n",
              "      <th>0</th>\n",
              "      <td>soumya</td>\n",
              "      <td>20</td>\n",
              "      <td>hariwon</td>\n",
              "      <td>B.Tech</td>\n",
              "    </tr>\n",
              "    <tr>\n",
              "      <th>1</th>\n",
              "      <td>shahid</td>\n",
              "      <td>19</td>\n",
              "      <td>kalaiya</td>\n",
              "      <td>B.Tech</td>\n",
              "    </tr>\n",
              "    <tr>\n",
              "      <th>2</th>\n",
              "      <td>nitish</td>\n",
              "      <td>18</td>\n",
              "      <td>biratnagar</td>\n",
              "      <td>B.Tech</td>\n",
              "    </tr>\n",
              "    <tr>\n",
              "      <th>3</th>\n",
              "      <td>kalpana</td>\n",
              "      <td>20</td>\n",
              "      <td>malangwa</td>\n",
              "      <td>B.Tech</td>\n",
              "    </tr>\n",
              "  </tbody>\n",
              "</table>\n",
              "</div>"
            ],
            "text/plain": [
              "      Name  Age     Address Qualification\n",
              "0   soumya   20     hariwon        B.Tech\n",
              "1   shahid   19     kalaiya        B.Tech\n",
              "2   nitish   18  biratnagar        B.Tech\n",
              "3  kalpana   20    malangwa        B.Tech"
            ]
          },
          "metadata": {
            "tags": []
          },
          "execution_count": 3
        }
      ]
    },
    {
      "cell_type": "code",
      "metadata": {
        "colab": {
          "base_uri": "https://localhost:8080/",
          "height": 166
        },
        "id": "tFLCFkGiGXLF",
        "outputId": "c48b37d2-3b22-4a4b-b3de-9e5dccd80c54"
      },
      "source": [
        "import pandas as pd\n",
        "import numpy as np\n",
        "dict={'First Score':[100,90,np.nan,95],\n",
        "      'Second Score':[34,53,43,np.nan],\n",
        "      'Third Score':[np.nan,54,64,76]}\n",
        "df=pd.DataFrame(dict)\n",
        "df.isnull\n",
        "df"
      ],
      "execution_count": 4,
      "outputs": [
        {
          "output_type": "execute_result",
          "data": {
            "text/html": [
              "<div>\n",
              "<style scoped>\n",
              "    .dataframe tbody tr th:only-of-type {\n",
              "        vertical-align: middle;\n",
              "    }\n",
              "\n",
              "    .dataframe tbody tr th {\n",
              "        vertical-align: top;\n",
              "    }\n",
              "\n",
              "    .dataframe thead th {\n",
              "        text-align: right;\n",
              "    }\n",
              "</style>\n",
              "<table border=\"1\" class=\"dataframe\">\n",
              "  <thead>\n",
              "    <tr style=\"text-align: right;\">\n",
              "      <th></th>\n",
              "      <th>First Score</th>\n",
              "      <th>Second Score</th>\n",
              "      <th>Third Score</th>\n",
              "    </tr>\n",
              "  </thead>\n",
              "  <tbody>\n",
              "    <tr>\n",
              "      <th>0</th>\n",
              "      <td>100.0</td>\n",
              "      <td>34.0</td>\n",
              "      <td>NaN</td>\n",
              "    </tr>\n",
              "    <tr>\n",
              "      <th>1</th>\n",
              "      <td>90.0</td>\n",
              "      <td>53.0</td>\n",
              "      <td>54.0</td>\n",
              "    </tr>\n",
              "    <tr>\n",
              "      <th>2</th>\n",
              "      <td>NaN</td>\n",
              "      <td>43.0</td>\n",
              "      <td>64.0</td>\n",
              "    </tr>\n",
              "    <tr>\n",
              "      <th>3</th>\n",
              "      <td>95.0</td>\n",
              "      <td>NaN</td>\n",
              "      <td>76.0</td>\n",
              "    </tr>\n",
              "  </tbody>\n",
              "</table>\n",
              "</div>"
            ],
            "text/plain": [
              "   First Score  Second Score  Third Score\n",
              "0        100.0          34.0          NaN\n",
              "1         90.0          53.0         54.0\n",
              "2          NaN          43.0         64.0\n",
              "3         95.0           NaN         76.0"
            ]
          },
          "metadata": {
            "tags": []
          },
          "execution_count": 4
        }
      ]
    },
    {
      "cell_type": "code",
      "metadata": {
        "colab": {
          "base_uri": "https://localhost:8080/",
          "height": 166
        },
        "id": "9CTEq_MEGb2r",
        "outputId": "470588ce-18c8-46a1-8498-8cb8f7d9a43c"
      },
      "source": [
        "dict1={'First Score':[100,90,np.nan,95],\n",
        "      'Second Score':[34,53,43,np.nan],\n",
        "      'Third Score':[np.nan,54,64,76]}\n",
        "df=pd.DataFrame(dict1)\n",
        "df.fillna(0.0)\n",
        "df"
      ],
      "execution_count": 5,
      "outputs": [
        {
          "output_type": "execute_result",
          "data": {
            "text/html": [
              "<div>\n",
              "<style scoped>\n",
              "    .dataframe tbody tr th:only-of-type {\n",
              "        vertical-align: middle;\n",
              "    }\n",
              "\n",
              "    .dataframe tbody tr th {\n",
              "        vertical-align: top;\n",
              "    }\n",
              "\n",
              "    .dataframe thead th {\n",
              "        text-align: right;\n",
              "    }\n",
              "</style>\n",
              "<table border=\"1\" class=\"dataframe\">\n",
              "  <thead>\n",
              "    <tr style=\"text-align: right;\">\n",
              "      <th></th>\n",
              "      <th>First Score</th>\n",
              "      <th>Second Score</th>\n",
              "      <th>Third Score</th>\n",
              "    </tr>\n",
              "  </thead>\n",
              "  <tbody>\n",
              "    <tr>\n",
              "      <th>0</th>\n",
              "      <td>100.0</td>\n",
              "      <td>34.0</td>\n",
              "      <td>NaN</td>\n",
              "    </tr>\n",
              "    <tr>\n",
              "      <th>1</th>\n",
              "      <td>90.0</td>\n",
              "      <td>53.0</td>\n",
              "      <td>54.0</td>\n",
              "    </tr>\n",
              "    <tr>\n",
              "      <th>2</th>\n",
              "      <td>NaN</td>\n",
              "      <td>43.0</td>\n",
              "      <td>64.0</td>\n",
              "    </tr>\n",
              "    <tr>\n",
              "      <th>3</th>\n",
              "      <td>95.0</td>\n",
              "      <td>NaN</td>\n",
              "      <td>76.0</td>\n",
              "    </tr>\n",
              "  </tbody>\n",
              "</table>\n",
              "</div>"
            ],
            "text/plain": [
              "   First Score  Second Score  Third Score\n",
              "0        100.0          34.0          NaN\n",
              "1         90.0          53.0         54.0\n",
              "2          NaN          43.0         64.0\n",
              "3         95.0           NaN         76.0"
            ]
          },
          "metadata": {
            "tags": []
          },
          "execution_count": 5
        }
      ]
    },
    {
      "cell_type": "code",
      "metadata": {
        "colab": {
          "base_uri": "https://localhost:8080/"
        },
        "id": "bgGIbt10GgA9",
        "outputId": "598fbf67-6870-4235-c3cb-6bc0b2e57a05"
      },
      "source": [
        "# importing pandas as pd\n",
        "import pandas as pd\n",
        "  \n",
        "# dictionary of lists\n",
        "dict = {'name':['soumya','shahid','nitish','kalpana'],\n",
        "        'degree': [\"BTECH\", \"CSIT\", \"M.Tech\", \"MBA\"],\n",
        "        'score':[95, 48, 88, 98]}\n",
        " \n",
        "# creating a dataframe from a dictionary \n",
        "df = pd.DataFrame(dict)\n",
        " \n",
        "# iterating over rows using iterrows() function \n",
        "for i, j in df.iterrows():\n",
        "    print(i, j)\n",
        "    print()"
      ],
      "execution_count": 6,
      "outputs": [
        {
          "output_type": "stream",
          "text": [
            "0 name      soumya\n",
            "degree     BTECH\n",
            "score         95\n",
            "Name: 0, dtype: object\n",
            "\n",
            "1 name      shahid\n",
            "degree      CSIT\n",
            "score         48\n",
            "Name: 1, dtype: object\n",
            "\n",
            "2 name      nitish\n",
            "degree    M.Tech\n",
            "score         88\n",
            "Name: 2, dtype: object\n",
            "\n",
            "3 name      kalpana\n",
            "degree        MBA\n",
            "score          98\n",
            "Name: 3, dtype: object\n",
            "\n"
          ],
          "name": "stdout"
        }
      ]
    },
    {
      "cell_type": "code",
      "metadata": {
        "colab": {
          "base_uri": "https://localhost:8080/"
        },
        "id": "jAnsfS-KGrKD",
        "outputId": "5def3c40-28ae-45e9-c122-f884eb6bc6ec"
      },
      "source": [
        "# importing pandas as pd\n",
        "import pandas as pd\n",
        "   \n",
        "# dictionary of lists\n",
        "dict = {'name':['soumya','shahid','nitish','kalpana'],\n",
        "        'degree': [\"BTECH\", \"CSIT\", \"M.Tech\", \"MBA\"],\n",
        "        'score':[95, 48, 88, 98]}\n",
        "  \n",
        "# creating a dataframe from a dictionary \n",
        "df = pd.DataFrame(dict)\n",
        " \n",
        "print(df)"
      ],
      "execution_count": 7,
      "outputs": [
        {
          "output_type": "stream",
          "text": [
            "      name  degree  score\n",
            "0   soumya   BTECH     95\n",
            "1   shahid    CSIT     48\n",
            "2   nitish  M.Tech     88\n",
            "3  kalpana     MBA     98\n"
          ],
          "name": "stdout"
        }
      ]
    },
    {
      "cell_type": "code",
      "metadata": {
        "id": "er6tfOyHGvQI"
      },
      "source": [
        ""
      ],
      "execution_count": null,
      "outputs": []
    }
  ]
}